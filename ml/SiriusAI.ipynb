{
  "nbformat": 4,
  "nbformat_minor": 0,
  "metadata": {
    "colab": {
      "provenance": [],
      "gpuType": "T4"
    },
    "kernelspec": {
      "name": "python3",
      "display_name": "Python 3"
    },
    "language_info": {
      "name": "python"
    },
    "widgets": {
      "application/vnd.jupyter.widget-state+json": {
        "7bcc116f1e1f4766aec285c5777aad87": {
          "model_module": "@jupyter-widgets/controls",
          "model_name": "HBoxModel",
          "model_module_version": "1.5.0",
          "state": {
            "_dom_classes": [],
            "_model_module": "@jupyter-widgets/controls",
            "_model_module_version": "1.5.0",
            "_model_name": "HBoxModel",
            "_view_count": null,
            "_view_module": "@jupyter-widgets/controls",
            "_view_module_version": "1.5.0",
            "_view_name": "HBoxView",
            "box_style": "",
            "children": [
              "IPY_MODEL_838db688a1944f888fa2b43585a2db24",
              "IPY_MODEL_7f44387505b14e348b161bca862f7e01",
              "IPY_MODEL_75f7985bec704c5c869fda6fff6513d1"
            ],
            "layout": "IPY_MODEL_a2cc5bf1cfc34c55b12766e3acf42d72"
          }
        },
        "838db688a1944f888fa2b43585a2db24": {
          "model_module": "@jupyter-widgets/controls",
          "model_name": "HTMLModel",
          "model_module_version": "1.5.0",
          "state": {
            "_dom_classes": [],
            "_model_module": "@jupyter-widgets/controls",
            "_model_module_version": "1.5.0",
            "_model_name": "HTMLModel",
            "_view_count": null,
            "_view_module": "@jupyter-widgets/controls",
            "_view_module_version": "1.5.0",
            "_view_name": "HTMLView",
            "description": "",
            "description_tooltip": null,
            "layout": "IPY_MODEL_9d2d6e2909ca4be49e9082b5182c25ac",
            "placeholder": "​",
            "style": "IPY_MODEL_ecc772cd9abf48bf988083d1ba1f476a",
            "value": "100%"
          }
        },
        "7f44387505b14e348b161bca862f7e01": {
          "model_module": "@jupyter-widgets/controls",
          "model_name": "FloatProgressModel",
          "model_module_version": "1.5.0",
          "state": {
            "_dom_classes": [],
            "_model_module": "@jupyter-widgets/controls",
            "_model_module_version": "1.5.0",
            "_model_name": "FloatProgressModel",
            "_view_count": null,
            "_view_module": "@jupyter-widgets/controls",
            "_view_module_version": "1.5.0",
            "_view_name": "ProgressView",
            "bar_style": "success",
            "description": "",
            "description_tooltip": null,
            "layout": "IPY_MODEL_9a3bd561739b4d70a88af031db1b85e2",
            "max": 1108,
            "min": 0,
            "orientation": "horizontal",
            "style": "IPY_MODEL_078e35328dde4cc18a5c90178178be9b",
            "value": 1108
          }
        },
        "75f7985bec704c5c869fda6fff6513d1": {
          "model_module": "@jupyter-widgets/controls",
          "model_name": "HTMLModel",
          "model_module_version": "1.5.0",
          "state": {
            "_dom_classes": [],
            "_model_module": "@jupyter-widgets/controls",
            "_model_module_version": "1.5.0",
            "_model_name": "HTMLModel",
            "_view_count": null,
            "_view_module": "@jupyter-widgets/controls",
            "_view_module_version": "1.5.0",
            "_view_name": "HTMLView",
            "description": "",
            "description_tooltip": null,
            "layout": "IPY_MODEL_6085275f7bfd4e8a9c8251da283386d6",
            "placeholder": "​",
            "style": "IPY_MODEL_2c7fc42531e84b2ebcaff37b961c6b7b",
            "value": " 1108/1108 [00:00&lt;00:00, 1280.55it/s]"
          }
        },
        "a2cc5bf1cfc34c55b12766e3acf42d72": {
          "model_module": "@jupyter-widgets/base",
          "model_name": "LayoutModel",
          "model_module_version": "1.2.0",
          "state": {
            "_model_module": "@jupyter-widgets/base",
            "_model_module_version": "1.2.0",
            "_model_name": "LayoutModel",
            "_view_count": null,
            "_view_module": "@jupyter-widgets/base",
            "_view_module_version": "1.2.0",
            "_view_name": "LayoutView",
            "align_content": null,
            "align_items": null,
            "align_self": null,
            "border": null,
            "bottom": null,
            "display": null,
            "flex": null,
            "flex_flow": null,
            "grid_area": null,
            "grid_auto_columns": null,
            "grid_auto_flow": null,
            "grid_auto_rows": null,
            "grid_column": null,
            "grid_gap": null,
            "grid_row": null,
            "grid_template_areas": null,
            "grid_template_columns": null,
            "grid_template_rows": null,
            "height": null,
            "justify_content": null,
            "justify_items": null,
            "left": null,
            "margin": null,
            "max_height": null,
            "max_width": null,
            "min_height": null,
            "min_width": null,
            "object_fit": null,
            "object_position": null,
            "order": null,
            "overflow": null,
            "overflow_x": null,
            "overflow_y": null,
            "padding": null,
            "right": null,
            "top": null,
            "visibility": null,
            "width": null
          }
        },
        "9d2d6e2909ca4be49e9082b5182c25ac": {
          "model_module": "@jupyter-widgets/base",
          "model_name": "LayoutModel",
          "model_module_version": "1.2.0",
          "state": {
            "_model_module": "@jupyter-widgets/base",
            "_model_module_version": "1.2.0",
            "_model_name": "LayoutModel",
            "_view_count": null,
            "_view_module": "@jupyter-widgets/base",
            "_view_module_version": "1.2.0",
            "_view_name": "LayoutView",
            "align_content": null,
            "align_items": null,
            "align_self": null,
            "border": null,
            "bottom": null,
            "display": null,
            "flex": null,
            "flex_flow": null,
            "grid_area": null,
            "grid_auto_columns": null,
            "grid_auto_flow": null,
            "grid_auto_rows": null,
            "grid_column": null,
            "grid_gap": null,
            "grid_row": null,
            "grid_template_areas": null,
            "grid_template_columns": null,
            "grid_template_rows": null,
            "height": null,
            "justify_content": null,
            "justify_items": null,
            "left": null,
            "margin": null,
            "max_height": null,
            "max_width": null,
            "min_height": null,
            "min_width": null,
            "object_fit": null,
            "object_position": null,
            "order": null,
            "overflow": null,
            "overflow_x": null,
            "overflow_y": null,
            "padding": null,
            "right": null,
            "top": null,
            "visibility": null,
            "width": null
          }
        },
        "ecc772cd9abf48bf988083d1ba1f476a": {
          "model_module": "@jupyter-widgets/controls",
          "model_name": "DescriptionStyleModel",
          "model_module_version": "1.5.0",
          "state": {
            "_model_module": "@jupyter-widgets/controls",
            "_model_module_version": "1.5.0",
            "_model_name": "DescriptionStyleModel",
            "_view_count": null,
            "_view_module": "@jupyter-widgets/base",
            "_view_module_version": "1.2.0",
            "_view_name": "StyleView",
            "description_width": ""
          }
        },
        "9a3bd561739b4d70a88af031db1b85e2": {
          "model_module": "@jupyter-widgets/base",
          "model_name": "LayoutModel",
          "model_module_version": "1.2.0",
          "state": {
            "_model_module": "@jupyter-widgets/base",
            "_model_module_version": "1.2.0",
            "_model_name": "LayoutModel",
            "_view_count": null,
            "_view_module": "@jupyter-widgets/base",
            "_view_module_version": "1.2.0",
            "_view_name": "LayoutView",
            "align_content": null,
            "align_items": null,
            "align_self": null,
            "border": null,
            "bottom": null,
            "display": null,
            "flex": null,
            "flex_flow": null,
            "grid_area": null,
            "grid_auto_columns": null,
            "grid_auto_flow": null,
            "grid_auto_rows": null,
            "grid_column": null,
            "grid_gap": null,
            "grid_row": null,
            "grid_template_areas": null,
            "grid_template_columns": null,
            "grid_template_rows": null,
            "height": null,
            "justify_content": null,
            "justify_items": null,
            "left": null,
            "margin": null,
            "max_height": null,
            "max_width": null,
            "min_height": null,
            "min_width": null,
            "object_fit": null,
            "object_position": null,
            "order": null,
            "overflow": null,
            "overflow_x": null,
            "overflow_y": null,
            "padding": null,
            "right": null,
            "top": null,
            "visibility": null,
            "width": null
          }
        },
        "078e35328dde4cc18a5c90178178be9b": {
          "model_module": "@jupyter-widgets/controls",
          "model_name": "ProgressStyleModel",
          "model_module_version": "1.5.0",
          "state": {
            "_model_module": "@jupyter-widgets/controls",
            "_model_module_version": "1.5.0",
            "_model_name": "ProgressStyleModel",
            "_view_count": null,
            "_view_module": "@jupyter-widgets/base",
            "_view_module_version": "1.2.0",
            "_view_name": "StyleView",
            "bar_color": null,
            "description_width": ""
          }
        },
        "6085275f7bfd4e8a9c8251da283386d6": {
          "model_module": "@jupyter-widgets/base",
          "model_name": "LayoutModel",
          "model_module_version": "1.2.0",
          "state": {
            "_model_module": "@jupyter-widgets/base",
            "_model_module_version": "1.2.0",
            "_model_name": "LayoutModel",
            "_view_count": null,
            "_view_module": "@jupyter-widgets/base",
            "_view_module_version": "1.2.0",
            "_view_name": "LayoutView",
            "align_content": null,
            "align_items": null,
            "align_self": null,
            "border": null,
            "bottom": null,
            "display": null,
            "flex": null,
            "flex_flow": null,
            "grid_area": null,
            "grid_auto_columns": null,
            "grid_auto_flow": null,
            "grid_auto_rows": null,
            "grid_column": null,
            "grid_gap": null,
            "grid_row": null,
            "grid_template_areas": null,
            "grid_template_columns": null,
            "grid_template_rows": null,
            "height": null,
            "justify_content": null,
            "justify_items": null,
            "left": null,
            "margin": null,
            "max_height": null,
            "max_width": null,
            "min_height": null,
            "min_width": null,
            "object_fit": null,
            "object_position": null,
            "order": null,
            "overflow": null,
            "overflow_x": null,
            "overflow_y": null,
            "padding": null,
            "right": null,
            "top": null,
            "visibility": null,
            "width": null
          }
        },
        "2c7fc42531e84b2ebcaff37b961c6b7b": {
          "model_module": "@jupyter-widgets/controls",
          "model_name": "DescriptionStyleModel",
          "model_module_version": "1.5.0",
          "state": {
            "_model_module": "@jupyter-widgets/controls",
            "_model_module_version": "1.5.0",
            "_model_name": "DescriptionStyleModel",
            "_view_count": null,
            "_view_module": "@jupyter-widgets/base",
            "_view_module_version": "1.2.0",
            "_view_name": "StyleView",
            "description_width": ""
          }
        }
      }
    }
  },
  "cells": [
    {
      "cell_type": "code",
      "source": [
        "from google.colab import drive\n",
        "drive.mount('/content/drive')"
      ],
      "metadata": {
        "colab": {
          "base_uri": "https://localhost:8080/"
        },
        "id": "bm3JWrCpU7e3",
        "outputId": "b38deca5-7e6c-4b3f-a4ad-6676ff569928"
      },
      "execution_count": 1,
      "outputs": [
        {
          "output_type": "stream",
          "name": "stdout",
          "text": [
            "Mounted at /content/drive\n"
          ]
        }
      ]
    },
    {
      "cell_type": "code",
      "source": [
        "!pip install catboost scikit-learn pathlib pandas numpy matplotlib seaborn"
      ],
      "metadata": {
        "colab": {
          "base_uri": "https://localhost:8080/"
        },
        "id": "Oa8-zQQAVI1T",
        "outputId": "bac75497-5d12-420b-cd24-83b4b0f176cf"
      },
      "execution_count": 2,
      "outputs": [
        {
          "output_type": "stream",
          "name": "stdout",
          "text": [
            "Collecting catboost\n",
            "  Downloading catboost-1.2.7-cp310-cp310-manylinux2014_x86_64.whl.metadata (1.2 kB)\n",
            "Requirement already satisfied: scikit-learn in /usr/local/lib/python3.10/dist-packages (1.5.2)\n",
            "Requirement already satisfied: pathlib in /usr/local/lib/python3.10/dist-packages (1.0.1)\n",
            "Requirement already satisfied: pandas in /usr/local/lib/python3.10/dist-packages (2.2.2)\n",
            "Requirement already satisfied: numpy in /usr/local/lib/python3.10/dist-packages (1.26.4)\n",
            "Requirement already satisfied: matplotlib in /usr/local/lib/python3.10/dist-packages (3.8.0)\n",
            "Requirement already satisfied: seaborn in /usr/local/lib/python3.10/dist-packages (0.13.2)\n",
            "Requirement already satisfied: graphviz in /usr/local/lib/python3.10/dist-packages (from catboost) (0.20.3)\n",
            "Requirement already satisfied: scipy in /usr/local/lib/python3.10/dist-packages (from catboost) (1.13.1)\n",
            "Requirement already satisfied: plotly in /usr/local/lib/python3.10/dist-packages (from catboost) (5.24.1)\n",
            "Requirement already satisfied: six in /usr/local/lib/python3.10/dist-packages (from catboost) (1.16.0)\n",
            "Requirement already satisfied: joblib>=1.2.0 in /usr/local/lib/python3.10/dist-packages (from scikit-learn) (1.4.2)\n",
            "Requirement already satisfied: threadpoolctl>=3.1.0 in /usr/local/lib/python3.10/dist-packages (from scikit-learn) (3.5.0)\n",
            "Requirement already satisfied: python-dateutil>=2.8.2 in /usr/local/lib/python3.10/dist-packages (from pandas) (2.8.2)\n",
            "Requirement already satisfied: pytz>=2020.1 in /usr/local/lib/python3.10/dist-packages (from pandas) (2024.2)\n",
            "Requirement already satisfied: tzdata>=2022.7 in /usr/local/lib/python3.10/dist-packages (from pandas) (2024.2)\n",
            "Requirement already satisfied: contourpy>=1.0.1 in /usr/local/lib/python3.10/dist-packages (from matplotlib) (1.3.0)\n",
            "Requirement already satisfied: cycler>=0.10 in /usr/local/lib/python3.10/dist-packages (from matplotlib) (0.12.1)\n",
            "Requirement already satisfied: fonttools>=4.22.0 in /usr/local/lib/python3.10/dist-packages (from matplotlib) (4.54.1)\n",
            "Requirement already satisfied: kiwisolver>=1.0.1 in /usr/local/lib/python3.10/dist-packages (from matplotlib) (1.4.7)\n",
            "Requirement already satisfied: packaging>=20.0 in /usr/local/lib/python3.10/dist-packages (from matplotlib) (24.1)\n",
            "Requirement already satisfied: pillow>=6.2.0 in /usr/local/lib/python3.10/dist-packages (from matplotlib) (10.4.0)\n",
            "Requirement already satisfied: pyparsing>=2.3.1 in /usr/local/lib/python3.10/dist-packages (from matplotlib) (3.2.0)\n",
            "Requirement already satisfied: tenacity>=6.2.0 in /usr/local/lib/python3.10/dist-packages (from plotly->catboost) (9.0.0)\n",
            "Downloading catboost-1.2.7-cp310-cp310-manylinux2014_x86_64.whl (98.7 MB)\n",
            "\u001b[2K   \u001b[90m━━━━━━━━━━━━━━━━━━━━━━━━━━━━━━━━━━━━━━━━\u001b[0m \u001b[32m98.7/98.7 MB\u001b[0m \u001b[31m8.5 MB/s\u001b[0m eta \u001b[36m0:00:00\u001b[0m\n",
            "\u001b[?25hInstalling collected packages: catboost\n",
            "Successfully installed catboost-1.2.7\n"
          ]
        }
      ]
    },
    {
      "cell_type": "code",
      "source": [
        "import pandas as pd\n",
        "import numpy as np\n",
        "import seaborn as sb\n",
        "import matplotlib.pyplot as plt\n",
        "\n",
        "from sklearn.model_selection import train_test_split as tts\n",
        "from catboost import CatBoostClassifier, Pool\n",
        "from catboost.text_processing import Tokenizer, Dictionary\n",
        "from sklearn.metrics import f1_score\n",
        "from tqdm.notebook import tqdm\n",
        "from pathlib import Path"
      ],
      "metadata": {
        "id": "ayQqO-1dVQRj"
      },
      "execution_count": 48,
      "outputs": []
    },
    {
      "cell_type": "code",
      "source": [
        "base_path = Path(\"/content/drive/MyDrive/SiriusAI\")"
      ],
      "metadata": {
        "id": "Aw8zOeTHWIQ6"
      },
      "execution_count": 4,
      "outputs": []
    },
    {
      "cell_type": "code",
      "source": [
        "data = pd.read_csv(base_path / \"reviews.csv\", delimiter=',')\n",
        "data.head(3)"
      ],
      "metadata": {
        "colab": {
          "base_uri": "https://localhost:8080/",
          "height": 142
        },
        "id": "o69N4kH2CIbO",
        "outputId": "fd53eda6-8251-488d-a252-ad73db40071b"
      },
      "execution_count": 5,
      "outputs": [
        {
          "output_type": "execute_result",
          "data": {
            "text/plain": [
              "                                              review  rate\n",
              "0  Все очень понравилось. Удобное расположение от...     5\n",
              "1  Замечательный отель, в номере идеально чисто. ...     5\n",
              "2                            Очень хорошая гостиница     5"
            ],
            "text/html": [
              "\n",
              "  <div id=\"df-d976379d-f3e8-4d07-9f28-a638911fdaa3\" class=\"colab-df-container\">\n",
              "    <div>\n",
              "<style scoped>\n",
              "    .dataframe tbody tr th:only-of-type {\n",
              "        vertical-align: middle;\n",
              "    }\n",
              "\n",
              "    .dataframe tbody tr th {\n",
              "        vertical-align: top;\n",
              "    }\n",
              "\n",
              "    .dataframe thead th {\n",
              "        text-align: right;\n",
              "    }\n",
              "</style>\n",
              "<table border=\"1\" class=\"dataframe\">\n",
              "  <thead>\n",
              "    <tr style=\"text-align: right;\">\n",
              "      <th></th>\n",
              "      <th>review</th>\n",
              "      <th>rate</th>\n",
              "    </tr>\n",
              "  </thead>\n",
              "  <tbody>\n",
              "    <tr>\n",
              "      <th>0</th>\n",
              "      <td>Все очень понравилось. Удобное расположение от...</td>\n",
              "      <td>5</td>\n",
              "    </tr>\n",
              "    <tr>\n",
              "      <th>1</th>\n",
              "      <td>Замечательный отель, в номере идеально чисто. ...</td>\n",
              "      <td>5</td>\n",
              "    </tr>\n",
              "    <tr>\n",
              "      <th>2</th>\n",
              "      <td>Очень хорошая гостиница</td>\n",
              "      <td>5</td>\n",
              "    </tr>\n",
              "  </tbody>\n",
              "</table>\n",
              "</div>\n",
              "    <div class=\"colab-df-buttons\">\n",
              "\n",
              "  <div class=\"colab-df-container\">\n",
              "    <button class=\"colab-df-convert\" onclick=\"convertToInteractive('df-d976379d-f3e8-4d07-9f28-a638911fdaa3')\"\n",
              "            title=\"Convert this dataframe to an interactive table.\"\n",
              "            style=\"display:none;\">\n",
              "\n",
              "  <svg xmlns=\"http://www.w3.org/2000/svg\" height=\"24px\" viewBox=\"0 -960 960 960\">\n",
              "    <path d=\"M120-120v-720h720v720H120Zm60-500h600v-160H180v160Zm220 220h160v-160H400v160Zm0 220h160v-160H400v160ZM180-400h160v-160H180v160Zm440 0h160v-160H620v160ZM180-180h160v-160H180v160Zm440 0h160v-160H620v160Z\"/>\n",
              "  </svg>\n",
              "    </button>\n",
              "\n",
              "  <style>\n",
              "    .colab-df-container {\n",
              "      display:flex;\n",
              "      gap: 12px;\n",
              "    }\n",
              "\n",
              "    .colab-df-convert {\n",
              "      background-color: #E8F0FE;\n",
              "      border: none;\n",
              "      border-radius: 50%;\n",
              "      cursor: pointer;\n",
              "      display: none;\n",
              "      fill: #1967D2;\n",
              "      height: 32px;\n",
              "      padding: 0 0 0 0;\n",
              "      width: 32px;\n",
              "    }\n",
              "\n",
              "    .colab-df-convert:hover {\n",
              "      background-color: #E2EBFA;\n",
              "      box-shadow: 0px 1px 2px rgba(60, 64, 67, 0.3), 0px 1px 3px 1px rgba(60, 64, 67, 0.15);\n",
              "      fill: #174EA6;\n",
              "    }\n",
              "\n",
              "    .colab-df-buttons div {\n",
              "      margin-bottom: 4px;\n",
              "    }\n",
              "\n",
              "    [theme=dark] .colab-df-convert {\n",
              "      background-color: #3B4455;\n",
              "      fill: #D2E3FC;\n",
              "    }\n",
              "\n",
              "    [theme=dark] .colab-df-convert:hover {\n",
              "      background-color: #434B5C;\n",
              "      box-shadow: 0px 1px 3px 1px rgba(0, 0, 0, 0.15);\n",
              "      filter: drop-shadow(0px 1px 2px rgba(0, 0, 0, 0.3));\n",
              "      fill: #FFFFFF;\n",
              "    }\n",
              "  </style>\n",
              "\n",
              "    <script>\n",
              "      const buttonEl =\n",
              "        document.querySelector('#df-d976379d-f3e8-4d07-9f28-a638911fdaa3 button.colab-df-convert');\n",
              "      buttonEl.style.display =\n",
              "        google.colab.kernel.accessAllowed ? 'block' : 'none';\n",
              "\n",
              "      async function convertToInteractive(key) {\n",
              "        const element = document.querySelector('#df-d976379d-f3e8-4d07-9f28-a638911fdaa3');\n",
              "        const dataTable =\n",
              "          await google.colab.kernel.invokeFunction('convertToInteractive',\n",
              "                                                    [key], {});\n",
              "        if (!dataTable) return;\n",
              "\n",
              "        const docLinkHtml = 'Like what you see? Visit the ' +\n",
              "          '<a target=\"_blank\" href=https://colab.research.google.com/notebooks/data_table.ipynb>data table notebook</a>'\n",
              "          + ' to learn more about interactive tables.';\n",
              "        element.innerHTML = '';\n",
              "        dataTable['output_type'] = 'display_data';\n",
              "        await google.colab.output.renderOutput(dataTable, element);\n",
              "        const docLink = document.createElement('div');\n",
              "        docLink.innerHTML = docLinkHtml;\n",
              "        element.appendChild(docLink);\n",
              "      }\n",
              "    </script>\n",
              "  </div>\n",
              "\n",
              "\n",
              "<div id=\"df-33ddc948-4c48-4be6-8365-6cde3301b6e7\">\n",
              "  <button class=\"colab-df-quickchart\" onclick=\"quickchart('df-33ddc948-4c48-4be6-8365-6cde3301b6e7')\"\n",
              "            title=\"Suggest charts\"\n",
              "            style=\"display:none;\">\n",
              "\n",
              "<svg xmlns=\"http://www.w3.org/2000/svg\" height=\"24px\"viewBox=\"0 0 24 24\"\n",
              "     width=\"24px\">\n",
              "    <g>\n",
              "        <path d=\"M19 3H5c-1.1 0-2 .9-2 2v14c0 1.1.9 2 2 2h14c1.1 0 2-.9 2-2V5c0-1.1-.9-2-2-2zM9 17H7v-7h2v7zm4 0h-2V7h2v10zm4 0h-2v-4h2v4z\"/>\n",
              "    </g>\n",
              "</svg>\n",
              "  </button>\n",
              "\n",
              "<style>\n",
              "  .colab-df-quickchart {\n",
              "      --bg-color: #E8F0FE;\n",
              "      --fill-color: #1967D2;\n",
              "      --hover-bg-color: #E2EBFA;\n",
              "      --hover-fill-color: #174EA6;\n",
              "      --disabled-fill-color: #AAA;\n",
              "      --disabled-bg-color: #DDD;\n",
              "  }\n",
              "\n",
              "  [theme=dark] .colab-df-quickchart {\n",
              "      --bg-color: #3B4455;\n",
              "      --fill-color: #D2E3FC;\n",
              "      --hover-bg-color: #434B5C;\n",
              "      --hover-fill-color: #FFFFFF;\n",
              "      --disabled-bg-color: #3B4455;\n",
              "      --disabled-fill-color: #666;\n",
              "  }\n",
              "\n",
              "  .colab-df-quickchart {\n",
              "    background-color: var(--bg-color);\n",
              "    border: none;\n",
              "    border-radius: 50%;\n",
              "    cursor: pointer;\n",
              "    display: none;\n",
              "    fill: var(--fill-color);\n",
              "    height: 32px;\n",
              "    padding: 0;\n",
              "    width: 32px;\n",
              "  }\n",
              "\n",
              "  .colab-df-quickchart:hover {\n",
              "    background-color: var(--hover-bg-color);\n",
              "    box-shadow: 0 1px 2px rgba(60, 64, 67, 0.3), 0 1px 3px 1px rgba(60, 64, 67, 0.15);\n",
              "    fill: var(--button-hover-fill-color);\n",
              "  }\n",
              "\n",
              "  .colab-df-quickchart-complete:disabled,\n",
              "  .colab-df-quickchart-complete:disabled:hover {\n",
              "    background-color: var(--disabled-bg-color);\n",
              "    fill: var(--disabled-fill-color);\n",
              "    box-shadow: none;\n",
              "  }\n",
              "\n",
              "  .colab-df-spinner {\n",
              "    border: 2px solid var(--fill-color);\n",
              "    border-color: transparent;\n",
              "    border-bottom-color: var(--fill-color);\n",
              "    animation:\n",
              "      spin 1s steps(1) infinite;\n",
              "  }\n",
              "\n",
              "  @keyframes spin {\n",
              "    0% {\n",
              "      border-color: transparent;\n",
              "      border-bottom-color: var(--fill-color);\n",
              "      border-left-color: var(--fill-color);\n",
              "    }\n",
              "    20% {\n",
              "      border-color: transparent;\n",
              "      border-left-color: var(--fill-color);\n",
              "      border-top-color: var(--fill-color);\n",
              "    }\n",
              "    30% {\n",
              "      border-color: transparent;\n",
              "      border-left-color: var(--fill-color);\n",
              "      border-top-color: var(--fill-color);\n",
              "      border-right-color: var(--fill-color);\n",
              "    }\n",
              "    40% {\n",
              "      border-color: transparent;\n",
              "      border-right-color: var(--fill-color);\n",
              "      border-top-color: var(--fill-color);\n",
              "    }\n",
              "    60% {\n",
              "      border-color: transparent;\n",
              "      border-right-color: var(--fill-color);\n",
              "    }\n",
              "    80% {\n",
              "      border-color: transparent;\n",
              "      border-right-color: var(--fill-color);\n",
              "      border-bottom-color: var(--fill-color);\n",
              "    }\n",
              "    90% {\n",
              "      border-color: transparent;\n",
              "      border-bottom-color: var(--fill-color);\n",
              "    }\n",
              "  }\n",
              "</style>\n",
              "\n",
              "  <script>\n",
              "    async function quickchart(key) {\n",
              "      const quickchartButtonEl =\n",
              "        document.querySelector('#' + key + ' button');\n",
              "      quickchartButtonEl.disabled = true;  // To prevent multiple clicks.\n",
              "      quickchartButtonEl.classList.add('colab-df-spinner');\n",
              "      try {\n",
              "        const charts = await google.colab.kernel.invokeFunction(\n",
              "            'suggestCharts', [key], {});\n",
              "      } catch (error) {\n",
              "        console.error('Error during call to suggestCharts:', error);\n",
              "      }\n",
              "      quickchartButtonEl.classList.remove('colab-df-spinner');\n",
              "      quickchartButtonEl.classList.add('colab-df-quickchart-complete');\n",
              "    }\n",
              "    (() => {\n",
              "      let quickchartButtonEl =\n",
              "        document.querySelector('#df-33ddc948-4c48-4be6-8365-6cde3301b6e7 button');\n",
              "      quickchartButtonEl.style.display =\n",
              "        google.colab.kernel.accessAllowed ? 'block' : 'none';\n",
              "    })();\n",
              "  </script>\n",
              "</div>\n",
              "    </div>\n",
              "  </div>\n"
            ],
            "application/vnd.google.colaboratory.intrinsic+json": {
              "type": "dataframe",
              "variable_name": "data",
              "summary": "{\n  \"name\": \"data\",\n  \"rows\": 11073,\n  \"fields\": [\n    {\n      \"column\": \"review\",\n      \"properties\": {\n        \"dtype\": \"string\",\n        \"num_unique_values\": 10241,\n        \"samples\": [\n          \"\\u0421\\u043f\\u0430\\u0441\\u0438\\u0431\\u043e \\u0431\\u043e\\u043b\\u044c\\u0448\\u043e\\u0435 \\u0437\\u0430 \\u043f\\u0440\\u0438\\u044f\\u0442\\u043d\\u043e\\u0435 \\u043f\\u0440\\u0435\\u0431\\u044b\\u0432\\u0430\\u043d\\u0438\\u0435! \\u0412\\u0441\\u0435 \\u043e\\u0447\\u0435\\u043d\\u044c \\u0445\\u043e\\u0440\\u043e\\u0448\\u043e! \\u0418 \\u043d\\u043e\\u043c\\u0435\\u0440\\u0430 \\u0438 \\u043f\\u0440\\u0435\\u043a\\u0440\\u0430\\u0441\\u043d\\u044b\\u0439 \\u0437\\u0430\\u0432\\u0442\\u0440\\u0430\\u043a, \\u043e\\u0447\\u0435\\u043d\\u044c \\u0432\\u043a\\u0443\\u0441\\u043d\\u044b\\u0439 \\u0443\\u0436\\u0438\\u043d. \\u041e\\u0442\\u043b\\u0438\\u0447\\u043d\\u043e\\u0435 \\u0440\\u0430\\u0441\\u043f\\u043e\\u043b\\u043e\\u0436\\u0435\\u043d\\u0438\\u0435, \\u0432\\u0441\\u0435 \\u0432 \\u043f\\u0435\\u0448\\u0435\\u0439 \\u0434\\u043e\\u0441\\u0442\\u0443\\u043f\\u043d\\u043e\\u0441\\u0442\\u0438. \\u0412 \\u043e\\u0431\\u0449\\u0435\\u043c \\u0442\\u0432\\u0435\\u0440\\u0434\\u0430\\u044f 5\",\n          \"\\u041f\\u0440\\u043e\\u0441\\u0442\\u043e \\u0432\\u043e\\u0441\\u0442\\u043e\\u0440\\u0433! \\u041d\\u043e\\u043c\\u0435\\u0440 \\u043e\\u0442\\u043b\\u0438\\u0447\\u043d\\u044b\\u0439! \\u041e\\u0431\\u0441\\u043b\\u0443\\u0436\\u0438\\u0432\\u0430\\u043d\\u0438\\u0435 \\u0441\\u0443\\u043f\\u0435\\u0440! \\u0420\\u0435\\u043a\\u043e\\u043c\\u0435\\u043d\\u0434\\u0443\\u044e! \\u041e\\u0447\\u0435\\u043d\\u044c \\u0443\\u0434\\u043e\\u0431\\u043d\\u043e\\u0435 \\u0440\\u0430\\u0441\\u043f\\u043e\\u043b\\u043e\\u0436\\u0435\\u043d\\u0438\\u0435!\",\n          \"\\u041e\\u0442\\u043b\\u0438\\u0447\\u043d\\u044b\\u0439 \\u043e\\u0442\\u0435\\u043b\\u044c, \\u0434\\u043e\\u0432\\u043e\\u043b\\u044c\\u043d\\u043e \\u0447\\u0438\\u0441\\u0442\\u043e, \\u043f\\u0440\\u0438\\u044f\\u0442\\u043d\\u043e, \\u0440\\u0435\\u043a\\u043e\\u043c\\u0435\\u043d\\u0434\\u0443\\u044e\"\n        ],\n        \"semantic_type\": \"\",\n        \"description\": \"\"\n      }\n    },\n    {\n      \"column\": \"rate\",\n      \"properties\": {\n        \"dtype\": \"number\",\n        \"std\": 1,\n        \"min\": 0,\n        \"max\": 5,\n        \"num_unique_values\": 6,\n        \"samples\": [\n          5,\n          4,\n          0\n        ],\n        \"semantic_type\": \"\",\n        \"description\": \"\"\n      }\n    }\n  ]\n}"
            }
          },
          "metadata": {},
          "execution_count": 5
        }
      ]
    },
    {
      "cell_type": "code",
      "source": [
        "sb.countplot(x=\"rate\", data=data)\n",
        "plt.show()"
      ],
      "metadata": {
        "colab": {
          "base_uri": "https://localhost:8080/",
          "height": 449
        },
        "id": "kjL5vot0CV_7",
        "outputId": "259f64e0-2929-44ce-823e-1cfd5bf3eef7"
      },
      "execution_count": 6,
      "outputs": [
        {
          "output_type": "display_data",
          "data": {
            "text/plain": [
              "<Figure size 640x480 with 1 Axes>"
            ],
            "image/png": "[encoded data removed]"
          },
          "metadata": {}
        }
      ]
    },
    {
      "cell_type": "code",
      "source": [
        "model = CatBoostClassifier()\n",
        "model.load_model(base_path / \"model_clf_2.cbm\")"
      ],
      "metadata": {
        "colab": {
          "base_uri": "https://localhost:8080/"
        },
        "id": "I40ss8BDEDrn",
        "outputId": "9c9d1248-1ff6-4fca-c3b6-7dc76578bc04"
      },
      "execution_count": 7,
      "outputs": [
        {
          "output_type": "execute_result",
          "data": {
            "text/plain": [
              "<catboost.core.CatBoostClassifier at 0x7b20fbf2b850>"
            ]
          },
          "metadata": {},
          "execution_count": 7
        }
      ]
    },
    {
      "cell_type": "code",
      "source": [
        "X = data[\"review\"].values.reshape(-1, 1)\n",
        "Y = data[\"rate\"].values.reshape(-1, 1)\n",
        "\n",
        "x_train, x_val, y_train, y_val = tts(X, Y, random_state=1234, test_size=0.1)\n",
        "\n",
        "legit, not_leg = [], []\n",
        "\n",
        "for i in tqdm(range(len(y_val))):\n",
        "  pool = Pool(data=x_val[i], text_features=[0])\n",
        "  if model.predict(pool)[0][0] == y_val[i]:\n",
        "    legit.append(model.predict(pool)[0][0])\n",
        "  else:\n",
        "    not_leg.append(model.predict(pool)[0][0])"
      ],
      "metadata": {
        "colab": {
          "base_uri": "https://localhost:8080/",
          "height": 49,
          "referenced_widgets": [
            "7bcc116f1e1f4766aec285c5777aad87",
            "838db688a1944f888fa2b43585a2db24",
            "7f44387505b14e348b161bca862f7e01",
            "75f7985bec704c5c869fda6fff6513d1",
            "a2cc5bf1cfc34c55b12766e3acf42d72",
            "9d2d6e2909ca4be49e9082b5182c25ac",
            "ecc772cd9abf48bf988083d1ba1f476a",
            "9a3bd561739b4d70a88af031db1b85e2",
            "078e35328dde4cc18a5c90178178be9b",
            "6085275f7bfd4e8a9c8251da283386d6",
            "2c7fc42531e84b2ebcaff37b961c6b7b"
          ]
        },
        "id": "2z0mItkGNo8P",
        "outputId": "ce9e4241-ab20-46bf-e094-b4801b7305f9"
      },
      "execution_count": 49,
      "outputs": [
        {
          "output_type": "display_data",
          "data": {
            "text/plain": [
              "  0%|          | 0/1108 [00:00<?, ?it/s]"
            ],
            "application/vnd.jupyter.widget-view+json": {
              "version_major": 2,
              "version_minor": 0,
              "model_id": "7bcc116f1e1f4766aec285c5777aad87"
            }
          },
          "metadata": {}
        }
      ]
    },
    {
      "cell_type": "code",
      "source": [
        "plt.hist(legit, bins=30, alpha=0.5, color='green')\n",
        "plt.hist(not_leg, bins=30, alpha=0.5, color='red')\n",
        "plt.show()"
      ],
      "metadata": {
        "colab": {
          "base_uri": "https://localhost:8080/",
          "height": 430
        },
        "id": "pBDGE_F_PxwR",
        "outputId": "7896975e-1fb5-488d-ccbd-ef848a99e55d"
      },
      "execution_count": 52,
      "outputs": [
        {
          "output_type": "display_data",
          "data": {
            "text/plain": [
              "<Figure size 640x480 with 1 Axes>"
            ],
            "image/png": "[encoded data removed]"
          },
          "metadata": {}
        }
      ]
    },
    {
      "cell_type": "markdown",
      "source": [
        "**Train**\n",
        "---\n",
        "Train classifier model\n",
        "\n"
      ],
      "metadata": {
        "id": "7hLVhfzBBMOF"
      }
    },
    {
      "cell_type": "code",
      "source": [
        "data = pd.read_csv(base_path / \"reviews.csv\", delimiter=',')\n",
        "\n",
        "X = data[\"review\"].values.reshape(-1, 1)\n",
        "Y = data[\"rate\"].values.reshape(-1, 1)\n",
        "\n",
        "x_train, x_val, y_train, y_val = tts(X, Y, random_state=42, test_size=0.2)\n",
        "\n",
        "print(x_train.shape, y_train.shape)"
      ],
      "metadata": {
        "colab": {
          "base_uri": "https://localhost:8080/"
        },
        "id": "vZ9jbu9rWU5D",
        "outputId": "42cec540-ef4b-4aaa-852e-56b4d1e8135a"
      },
      "execution_count": null,
      "outputs": [
        {
          "output_type": "stream",
          "name": "stdout",
          "text": [
            "(8858, 1) (8858, 1)\n"
          ]
        }
      ]
    },
    {
      "cell_type": "code",
      "source": [
        "train_pool = Pool(\n",
        "    data=x_train,\n",
        "    label=y_train,\n",
        "    text_features=[0]\n",
        ")\n",
        "val_pool = Pool(\n",
        "    data=x_val,\n",
        "    label=y_val,\n",
        "    text_features=[0]\n",
        ")"
      ],
      "metadata": {
        "id": "XHCnQ4RYWeuJ"
      },
      "execution_count": null,
      "outputs": []
    },
    {
      "cell_type": "code",
      "source": [
        "model = CatBoostClassifier(\n",
        "    iterations=2000,\n",
        "    depth=15,\n",
        "    eval_metric=\"TotalF1\",\n",
        "    task_type=\"GPU\",\n",
        "    learning_rate=0.001,\n",
        "    od_wait=7500\n",
        ")"
      ],
      "metadata": {
        "id": "5xXVCgEwWgrv"
      },
      "execution_count": null,
      "outputs": []
    },
    {
      "cell_type": "code",
      "source": [
        "model.fit(\n",
        "    train_pool,\n",
        "    eval_set=val_pool,\n",
        "    verbose=10,\n",
        "    use_best_model=True\n",
        ")"
      ],
      "metadata": {
        "colab": {
          "base_uri": "https://localhost:8080/"
        },
        "id": "jS99h9ZaW5XN",
        "outputId": "eeb51b27-416b-45b5-debd-46a522406336"
      },
      "execution_count": null,
      "outputs": [
        {
          "output_type": "stream",
          "name": "stdout",
          "text": [
            "0:\tlearn: 0.8112219\ttest: 0.6446244\tbest: 0.6446244 (0)\ttotal: 2.42s\tremaining: 1h 20m 49s\n",
            "10:\tlearn: 0.8668513\ttest: 0.6965619\tbest: 0.7049831 (8)\ttotal: 19s\tremaining: 57m 16s\n",
            "20:\tlearn: 0.8689772\ttest: 0.7002879\tbest: 0.7049831 (8)\ttotal: 33.8s\tremaining: 53m 4s\n",
            "30:\tlearn: 0.8702888\ttest: 0.7046040\tbest: 0.7065048 (26)\ttotal: 48.4s\tremaining: 51m 13s\n",
            "40:\tlearn: 0.8686469\ttest: 0.7017890\tbest: 0.7065048 (26)\ttotal: 1m 2s\tremaining: 50m 9s\n",
            "50:\tlearn: 0.8711315\ttest: 0.7029284\tbest: 0.7065048 (26)\ttotal: 1m 17s\tremaining: 49m 38s\n",
            "60:\tlearn: 0.8708720\ttest: 0.7059983\tbest: 0.7065048 (26)\ttotal: 1m 32s\tremaining: 48m 53s\n",
            "70:\tlearn: 0.8710815\ttest: 0.7064057\tbest: 0.7070195 (64)\ttotal: 1m 46s\tremaining: 48m 23s\n",
            "80:\tlearn: 0.8716554\ttest: 0.7050155\tbest: 0.7077156 (74)\ttotal: 2m 1s\tremaining: 48m\n",
            "90:\tlearn: 0.8714791\ttest: 0.7041729\tbest: 0.7077156 (74)\ttotal: 2m 16s\tremaining: 47m 38s\n",
            "100:\tlearn: 0.8709463\ttest: 0.7067411\tbest: 0.7079768 (97)\ttotal: 2m 30s\tremaining: 47m 12s\n",
            "110:\tlearn: 0.8711669\ttest: 0.7059339\tbest: 0.7079768 (97)\ttotal: 2m 45s\tremaining: 46m 52s\n",
            "120:\tlearn: 0.8715295\ttest: 0.7073575\tbest: 0.7084601 (113)\ttotal: 2m 59s\tremaining: 46m 31s\n",
            "130:\tlearn: 0.8719680\ttest: 0.7063580\tbest: 0.7084601 (113)\ttotal: 3m 14s\tremaining: 46m 16s\n",
            "140:\tlearn: 0.8727875\ttest: 0.7061705\tbest: 0.7084601 (113)\ttotal: 3m 29s\tremaining: 45m 56s\n",
            "150:\tlearn: 0.8732699\ttest: 0.7053877\tbest: 0.7084601 (113)\ttotal: 3m 43s\tremaining: 45m 37s\n",
            "160:\tlearn: 0.8728242\ttest: 0.7051674\tbest: 0.7084601 (113)\ttotal: 3m 58s\tremaining: 45m 21s\n",
            "170:\tlearn: 0.8725281\ttest: 0.7048045\tbest: 0.7084601 (113)\ttotal: 4m 12s\tremaining: 45m 4s\n",
            "180:\tlearn: 0.8733568\ttest: 0.7057224\tbest: 0.7084601 (113)\ttotal: 4m 27s\tremaining: 44m 47s\n",
            "190:\tlearn: 0.8736987\ttest: 0.7045373\tbest: 0.7084601 (113)\ttotal: 4m 42s\tremaining: 44m 32s\n",
            "200:\tlearn: 0.8733753\ttest: 0.7039788\tbest: 0.7084601 (113)\ttotal: 4m 56s\tremaining: 44m 15s\n",
            "210:\tlearn: 0.8743364\ttest: 0.7038471\tbest: 0.7084601 (113)\ttotal: 5m 11s\tremaining: 44m\n",
            "220:\tlearn: 0.8745858\ttest: 0.7037768\tbest: 0.7084601 (113)\ttotal: 5m 26s\tremaining: 43m 48s\n",
            "230:\tlearn: 0.8737178\ttest: 0.7062639\tbest: 0.7084601 (113)\ttotal: 5m 40s\tremaining: 43m 30s\n",
            "240:\tlearn: 0.8742001\ttest: 0.7045324\tbest: 0.7084601 (113)\ttotal: 5m 55s\tremaining: 43m 17s\n",
            "250:\tlearn: 0.8743218\ttest: 0.7047935\tbest: 0.7084601 (113)\ttotal: 6m 10s\tremaining: 43m 2s\n",
            "260:\tlearn: 0.8741603\ttest: 0.7046797\tbest: 0.7084601 (113)\ttotal: 6m 25s\tremaining: 42m 49s\n",
            "270:\tlearn: 0.8744900\ttest: 0.7052046\tbest: 0.7084601 (113)\ttotal: 6m 40s\tremaining: 42m 34s\n",
            "280:\tlearn: 0.8748756\ttest: 0.7045303\tbest: 0.7084601 (113)\ttotal: 6m 55s\tremaining: 42m 19s\n",
            "290:\tlearn: 0.8751226\ttest: 0.7041248\tbest: 0.7084601 (113)\ttotal: 7m 9s\tremaining: 42m 2s\n",
            "300:\tlearn: 0.8762115\ttest: 0.7058665\tbest: 0.7084601 (113)\ttotal: 7m 24s\tremaining: 41m 47s\n",
            "310:\tlearn: 0.8763100\ttest: 0.7046684\tbest: 0.7084601 (113)\ttotal: 7m 39s\tremaining: 41m 33s\n",
            "320:\tlearn: 0.8761806\ttest: 0.7056029\tbest: 0.7084601 (113)\ttotal: 7m 53s\tremaining: 41m 17s\n",
            "330:\tlearn: 0.8769569\ttest: 0.7058711\tbest: 0.7084601 (113)\ttotal: 8m 8s\tremaining: 41m 2s\n",
            "340:\tlearn: 0.8767752\ttest: 0.7058789\tbest: 0.7084601 (113)\ttotal: 8m 23s\tremaining: 40m 47s\n",
            "350:\tlearn: 0.8770184\ttest: 0.7055351\tbest: 0.7084601 (113)\ttotal: 8m 38s\tremaining: 40m 33s\n",
            "360:\tlearn: 0.8769517\ttest: 0.7050817\tbest: 0.7084601 (113)\ttotal: 8m 52s\tremaining: 40m 18s\n",
            "370:\tlearn: 0.8768128\ttest: 0.7040951\tbest: 0.7084601 (113)\ttotal: 9m 7s\tremaining: 40m 5s\n",
            "380:\tlearn: 0.8774294\ttest: 0.7042157\tbest: 0.7084601 (113)\ttotal: 9m 22s\tremaining: 39m 50s\n",
            "390:\tlearn: 0.8778823\ttest: 0.7036914\tbest: 0.7084601 (113)\ttotal: 9m 37s\tremaining: 39m 34s\n",
            "400:\tlearn: 0.8783756\ttest: 0.7036171\tbest: 0.7084601 (113)\ttotal: 9m 51s\tremaining: 39m 19s\n",
            "410:\tlearn: 0.8784336\ttest: 0.7044222\tbest: 0.7084601 (113)\ttotal: 10m 7s\tremaining: 39m 6s\n",
            "420:\tlearn: 0.8784318\ttest: 0.7041693\tbest: 0.7084601 (113)\ttotal: 10m 21s\tremaining: 38m 52s\n",
            "430:\tlearn: 0.8785308\ttest: 0.7044870\tbest: 0.7084601 (113)\ttotal: 10m 36s\tremaining: 38m 38s\n",
            "440:\tlearn: 0.8785488\ttest: 0.7049403\tbest: 0.7084601 (113)\ttotal: 10m 51s\tremaining: 38m 23s\n",
            "450:\tlearn: 0.8789064\ttest: 0.7048520\tbest: 0.7084601 (113)\ttotal: 11m 6s\tremaining: 38m 9s\n",
            "460:\tlearn: 0.8790170\ttest: 0.7055385\tbest: 0.7084601 (113)\ttotal: 11m 21s\tremaining: 37m 54s\n",
            "470:\tlearn: 0.8789436\ttest: 0.7065293\tbest: 0.7084601 (113)\ttotal: 11m 36s\tremaining: 37m 39s\n",
            "480:\tlearn: 0.8789333\ttest: 0.7069075\tbest: 0.7084601 (113)\ttotal: 11m 51s\tremaining: 37m 25s\n",
            "490:\tlearn: 0.8789020\ttest: 0.7071690\tbest: 0.7084601 (113)\ttotal: 12m 5s\tremaining: 37m 10s\n",
            "500:\tlearn: 0.8789711\ttest: 0.7071273\tbest: 0.7084601 (113)\ttotal: 12m 20s\tremaining: 36m 55s\n",
            "510:\tlearn: 0.8791820\ttest: 0.7070544\tbest: 0.7084601 (113)\ttotal: 12m 35s\tremaining: 36m 41s\n",
            "520:\tlearn: 0.8793568\ttest: 0.7073817\tbest: 0.7084601 (113)\ttotal: 12m 51s\tremaining: 36m 28s\n",
            "530:\tlearn: 0.8794792\ttest: 0.7077802\tbest: 0.7084601 (113)\ttotal: 13m 5s\tremaining: 36m 14s\n",
            "540:\tlearn: 0.8800399\ttest: 0.7069822\tbest: 0.7084601 (113)\ttotal: 13m 20s\tremaining: 35m 59s\n",
            "550:\tlearn: 0.8801798\ttest: 0.7070519\tbest: 0.7084601 (113)\ttotal: 13m 35s\tremaining: 35m 45s\n",
            "560:\tlearn: 0.8802816\ttest: 0.7069805\tbest: 0.7084601 (113)\ttotal: 13m 50s\tremaining: 35m 30s\n",
            "570:\tlearn: 0.8804000\ttest: 0.7061179\tbest: 0.7084601 (113)\ttotal: 14m 5s\tremaining: 35m 15s\n",
            "580:\tlearn: 0.8805702\ttest: 0.7061179\tbest: 0.7084601 (113)\ttotal: 14m 20s\tremaining: 35m 1s\n",
            "590:\tlearn: 0.8801981\ttest: 0.7064798\tbest: 0.7084601 (113)\ttotal: 14m 35s\tremaining: 34m 47s\n",
            "600:\tlearn: 0.8805709\ttest: 0.7067494\tbest: 0.7084601 (113)\ttotal: 14m 50s\tremaining: 34m 33s\n",
            "610:\tlearn: 0.8806700\ttest: 0.7073825\tbest: 0.7084601 (113)\ttotal: 15m 5s\tremaining: 34m 19s\n",
            "620:\tlearn: 0.8814351\ttest: 0.7066075\tbest: 0.7084601 (113)\ttotal: 15m 20s\tremaining: 34m 4s\n",
            "630:\tlearn: 0.8816859\ttest: 0.7063496\tbest: 0.7084601 (113)\ttotal: 15m 35s\tremaining: 33m 49s\n",
            "640:\tlearn: 0.8815639\ttest: 0.7061307\tbest: 0.7084601 (113)\ttotal: 15m 50s\tremaining: 33m 34s\n",
            "650:\tlearn: 0.8819444\ttest: 0.7063788\tbest: 0.7084601 (113)\ttotal: 16m 5s\tremaining: 33m 19s\n",
            "660:\tlearn: 0.8825788\ttest: 0.7056557\tbest: 0.7084601 (113)\ttotal: 16m 20s\tremaining: 33m 5s\n",
            "670:\tlearn: 0.8823352\ttest: 0.7053130\tbest: 0.7084601 (113)\ttotal: 16m 35s\tremaining: 32m 51s\n",
            "680:\tlearn: 0.8828397\ttest: 0.7058347\tbest: 0.7084601 (113)\ttotal: 16m 50s\tremaining: 32m 36s\n",
            "690:\tlearn: 0.8827034\ttest: 0.7054368\tbest: 0.7084601 (113)\ttotal: 17m 5s\tremaining: 32m 22s\n",
            "700:\tlearn: 0.8823183\ttest: 0.7052447\tbest: 0.7084601 (113)\ttotal: 17m 20s\tremaining: 32m 7s\n",
            "710:\tlearn: 0.8825999\ttest: 0.7049181\tbest: 0.7084601 (113)\ttotal: 17m 35s\tremaining: 31m 52s\n",
            "720:\tlearn: 0.8828446\ttest: 0.7047468\tbest: 0.7084601 (113)\ttotal: 17m 50s\tremaining: 31m 38s\n",
            "730:\tlearn: 0.8830708\ttest: 0.7052965\tbest: 0.7084601 (113)\ttotal: 18m 4s\tremaining: 31m 23s\n",
            "740:\tlearn: 0.8832084\ttest: 0.7053944\tbest: 0.7084601 (113)\ttotal: 18m 19s\tremaining: 31m 8s\n",
            "750:\tlearn: 0.8833333\ttest: 0.7053028\tbest: 0.7084601 (113)\ttotal: 18m 34s\tremaining: 30m 53s\n",
            "760:\tlearn: 0.8836897\ttest: 0.7045849\tbest: 0.7084601 (113)\ttotal: 18m 49s\tremaining: 30m 39s\n",
            "770:\tlearn: 0.8835863\ttest: 0.7044933\tbest: 0.7084601 (113)\ttotal: 19m 4s\tremaining: 30m 24s\n",
            "780:\tlearn: 0.8837145\ttest: 0.7046304\tbest: 0.7084601 (113)\ttotal: 19m 19s\tremaining: 30m 9s\n",
            "790:\tlearn: 0.8839379\ttest: 0.7041959\tbest: 0.7084601 (113)\ttotal: 19m 34s\tremaining: 29m 55s\n",
            "800:\tlearn: 0.8841327\ttest: 0.7051130\tbest: 0.7084601 (113)\ttotal: 19m 49s\tremaining: 29m 40s\n",
            "810:\tlearn: 0.8842448\ttest: 0.7039115\tbest: 0.7084601 (113)\ttotal: 20m 4s\tremaining: 29m 26s\n",
            "820:\tlearn: 0.8842448\ttest: 0.7041039\tbest: 0.7084601 (113)\ttotal: 20m 19s\tremaining: 29m 11s\n",
            "830:\tlearn: 0.8842433\ttest: 0.7040435\tbest: 0.7084601 (113)\ttotal: 20m 34s\tremaining: 28m 56s\n",
            "840:\tlearn: 0.8843551\ttest: 0.7040435\tbest: 0.7084601 (113)\ttotal: 20m 49s\tremaining: 28m 41s\n",
            "850:\tlearn: 0.8845882\ttest: 0.7022141\tbest: 0.7084601 (113)\ttotal: 21m 4s\tremaining: 28m 27s\n",
            "860:\tlearn: 0.8845929\ttest: 0.7027391\tbest: 0.7084601 (113)\ttotal: 21m 19s\tremaining: 28m 12s\n",
            "870:\tlearn: 0.8844556\ttest: 0.7027614\tbest: 0.7084601 (113)\ttotal: 21m 34s\tremaining: 27m 57s\n",
            "880:\tlearn: 0.8845817\ttest: 0.7038060\tbest: 0.7084601 (113)\ttotal: 21m 49s\tremaining: 27m 42s\n",
            "890:\tlearn: 0.8850673\ttest: 0.7041424\tbest: 0.7084601 (113)\ttotal: 22m 4s\tremaining: 27m 28s\n",
            "900:\tlearn: 0.8850603\ttest: 0.7029117\tbest: 0.7084601 (113)\ttotal: 22m 19s\tremaining: 27m 13s\n",
            "910:\tlearn: 0.8850746\ttest: 0.7029117\tbest: 0.7084601 (113)\ttotal: 22m 34s\tremaining: 26m 58s\n",
            "920:\tlearn: 0.8855785\ttest: 0.7024553\tbest: 0.7084601 (113)\ttotal: 22m 49s\tremaining: 26m 44s\n",
            "930:\tlearn: 0.8859664\ttest: 0.7029377\tbest: 0.7084601 (113)\ttotal: 23m 4s\tremaining: 26m 29s\n",
            "940:\tlearn: 0.8858293\ttest: 0.7036045\tbest: 0.7084601 (113)\ttotal: 23m 19s\tremaining: 26m 14s\n",
            "950:\tlearn: 0.8858293\ttest: 0.7035115\tbest: 0.7084601 (113)\ttotal: 23m 34s\tremaining: 26m\n",
            "960:\tlearn: 0.8860711\ttest: 0.7031173\tbest: 0.7084601 (113)\ttotal: 23m 49s\tremaining: 25m 45s\n",
            "970:\tlearn: 0.8864981\ttest: 0.7034786\tbest: 0.7084601 (113)\ttotal: 24m 5s\tremaining: 25m 32s\n",
            "980:\tlearn: 0.8864679\ttest: 0.7040319\tbest: 0.7084601 (113)\ttotal: 24m 20s\tremaining: 25m 17s\n",
            "990:\tlearn: 0.8866048\ttest: 0.7040319\tbest: 0.7084601 (113)\ttotal: 24m 35s\tremaining: 25m 2s\n",
            "1000:\tlearn: 0.8867416\ttest: 0.7052491\tbest: 0.7084601 (113)\ttotal: 24m 50s\tremaining: 24m 47s\n",
            "1010:\tlearn: 0.8867553\ttest: 0.7048741\tbest: 0.7084601 (113)\ttotal: 25m 5s\tremaining: 24m 32s\n",
            "1020:\tlearn: 0.8867553\ttest: 0.7049097\tbest: 0.7084601 (113)\ttotal: 25m 20s\tremaining: 24m 18s\n",
            "1030:\tlearn: 0.8872848\ttest: 0.7046273\tbest: 0.7084601 (113)\ttotal: 25m 37s\tremaining: 24m 4s\n",
            "1040:\tlearn: 0.8875287\ttest: 0.7043363\tbest: 0.7084601 (113)\ttotal: 25m 52s\tremaining: 23m 49s\n",
            "1050:\tlearn: 0.8874079\ttest: 0.7042807\tbest: 0.7084601 (113)\ttotal: 26m 7s\tremaining: 23m 35s\n",
            "1060:\tlearn: 0.8873744\ttest: 0.7042474\tbest: 0.7084601 (113)\ttotal: 26m 22s\tremaining: 23m 20s\n",
            "1070:\tlearn: 0.8875110\ttest: 0.7042474\tbest: 0.7084601 (113)\ttotal: 26m 37s\tremaining: 23m 5s\n",
            "1080:\tlearn: 0.8876310\ttest: 0.7042697\tbest: 0.7084601 (113)\ttotal: 26m 52s\tremaining: 22m 50s\n",
            "1090:\tlearn: 0.8877717\ttest: 0.7036019\tbest: 0.7084601 (113)\ttotal: 27m 7s\tremaining: 22m 35s\n",
            "1100:\tlearn: 0.8880124\ttest: 0.7042338\tbest: 0.7084601 (113)\ttotal: 27m 22s\tremaining: 22m 20s\n",
            "1110:\tlearn: 0.8884709\ttest: 0.7042338\tbest: 0.7084601 (113)\ttotal: 27m 37s\tremaining: 22m 6s\n",
            "1120:\tlearn: 0.8884709\ttest: 0.7042672\tbest: 0.7084601 (113)\ttotal: 27m 52s\tremaining: 21m 51s\n",
            "1130:\tlearn: 0.8886094\ttest: 0.7039629\tbest: 0.7084601 (113)\ttotal: 28m 7s\tremaining: 21m 36s\n",
            "1140:\tlearn: 0.8886094\ttest: 0.7044799\tbest: 0.7084601 (113)\ttotal: 28m 22s\tremaining: 21m 21s\n",
            "1150:\tlearn: 0.8887163\ttest: 0.7030655\tbest: 0.7084601 (113)\ttotal: 28m 37s\tremaining: 21m 7s\n",
            "1160:\tlearn: 0.8888555\ttest: 0.7037894\tbest: 0.7084601 (113)\ttotal: 28m 53s\tremaining: 20m 52s\n",
            "1170:\tlearn: 0.8888555\ttest: 0.7020941\tbest: 0.7084601 (113)\ttotal: 29m 8s\tremaining: 20m 37s\n",
            "1180:\tlearn: 0.8889754\ttest: 0.7038181\tbest: 0.7084601 (113)\ttotal: 29m 23s\tremaining: 20m 22s\n",
            "1190:\tlearn: 0.8894094\ttest: 0.7029558\tbest: 0.7084601 (113)\ttotal: 29m 38s\tremaining: 20m 8s\n",
            "1200:\tlearn: 0.8895295\ttest: 0.7032643\tbest: 0.7084601 (113)\ttotal: 29m 53s\tremaining: 19m 53s\n",
            "1210:\tlearn: 0.8897581\ttest: 0.7033884\tbest: 0.7084601 (113)\ttotal: 30m 8s\tremaining: 19m 38s\n",
            "1220:\tlearn: 0.8899057\ttest: 0.7034106\tbest: 0.7084601 (113)\ttotal: 30m 23s\tremaining: 19m 23s\n",
            "1230:\tlearn: 0.8901373\ttest: 0.7033884\tbest: 0.7084601 (113)\ttotal: 30m 38s\tremaining: 19m 8s\n",
            "1240:\tlearn: 0.8900151\ttest: 0.7033884\tbest: 0.7084601 (113)\ttotal: 30m 53s\tremaining: 18m 53s\n",
            "1250:\tlearn: 0.8899064\ttest: 0.7033884\tbest: 0.7084601 (113)\ttotal: 31m 8s\tremaining: 18m 38s\n",
            "1260:\tlearn: 0.8900151\ttest: 0.7033603\tbest: 0.7084601 (113)\ttotal: 31m 23s\tremaining: 18m 23s\n",
            "1270:\tlearn: 0.8900287\ttest: 0.7034084\tbest: 0.7084601 (113)\ttotal: 31m 38s\tremaining: 18m 8s\n",
            "1280:\tlearn: 0.8901374\ttest: 0.7037892\tbest: 0.7084601 (113)\ttotal: 31m 53s\tremaining: 17m 53s\n",
            "1290:\tlearn: 0.8903771\ttest: 0.7034506\tbest: 0.7084601 (113)\ttotal: 32m 8s\tremaining: 17m 38s\n",
            "1300:\tlearn: 0.8905135\ttest: 0.7035463\tbest: 0.7084601 (113)\ttotal: 32m 23s\tremaining: 17m 24s\n",
            "1310:\tlearn: 0.8905135\ttest: 0.7036311\tbest: 0.7084601 (113)\ttotal: 32m 38s\tremaining: 17m 9s\n",
            "1320:\tlearn: 0.8905135\ttest: 0.7037057\tbest: 0.7084601 (113)\ttotal: 32m 53s\tremaining: 16m 54s\n",
            "1330:\tlearn: 0.8906336\ttest: 0.7031927\tbest: 0.7084601 (113)\ttotal: 33m 8s\tremaining: 16m 39s\n",
            "1340:\tlearn: 0.8909084\ttest: 0.7041871\tbest: 0.7084601 (113)\ttotal: 33m 24s\tremaining: 16m 24s\n",
            "1350:\tlearn: 0.8911478\ttest: 0.7045502\tbest: 0.7084601 (113)\ttotal: 33m 39s\tremaining: 16m 10s\n",
            "1360:\tlearn: 0.8912839\ttest: 0.7040350\tbest: 0.7084601 (113)\ttotal: 33m 54s\tremaining: 15m 55s\n",
            "1370:\tlearn: 0.8912839\ttest: 0.7041647\tbest: 0.7084601 (113)\ttotal: 34m 9s\tremaining: 15m 40s\n",
            "1380:\tlearn: 0.8912839\ttest: 0.7043851\tbest: 0.7084601 (113)\ttotal: 34m 24s\tremaining: 15m 25s\n",
            "1390:\tlearn: 0.8914200\ttest: 0.7040026\tbest: 0.7084601 (113)\ttotal: 34m 40s\tremaining: 15m 10s\n",
            "1400:\tlearn: 0.8914200\ttest: 0.7040337\tbest: 0.7084601 (113)\ttotal: 34m 55s\tremaining: 14m 55s\n",
            "1410:\tlearn: 0.8915395\ttest: 0.7035478\tbest: 0.7084601 (113)\ttotal: 35m 10s\tremaining: 14m 40s\n",
            "1420:\tlearn: 0.8915395\ttest: 0.7035478\tbest: 0.7084601 (113)\ttotal: 35m 25s\tremaining: 14m 25s\n",
            "1430:\tlearn: 0.8915395\ttest: 0.7035478\tbest: 0.7084601 (113)\ttotal: 35m 40s\tremaining: 14m 10s\n",
            "1440:\tlearn: 0.8915395\ttest: 0.7035478\tbest: 0.7084601 (113)\ttotal: 35m 55s\tremaining: 13m 56s\n",
            "1450:\tlearn: 0.8916761\ttest: 0.7040616\tbest: 0.7084601 (113)\ttotal: 36m 10s\tremaining: 13m 41s\n",
            "1460:\tlearn: 0.8916573\ttest: 0.7039672\tbest: 0.7084601 (113)\ttotal: 36m 25s\tremaining: 13m 26s\n",
            "1470:\tlearn: 0.8918188\ttest: 0.7040616\tbest: 0.7084601 (113)\ttotal: 36m 40s\tremaining: 13m 11s\n",
            "1480:\tlearn: 0.8918188\ttest: 0.7040841\tbest: 0.7084601 (113)\ttotal: 36m 55s\tremaining: 12m 56s\n",
            "1490:\tlearn: 0.8921967\ttest: 0.7042016\tbest: 0.7084601 (113)\ttotal: 37m 10s\tremaining: 12m 41s\n",
            "1500:\tlearn: 0.8923309\ttest: 0.7037339\tbest: 0.7084601 (113)\ttotal: 37m 25s\tremaining: 12m 26s\n",
            "1510:\tlearn: 0.8924397\ttest: 0.7042010\tbest: 0.7084601 (113)\ttotal: 37m 41s\tremaining: 12m 11s\n",
            "1520:\tlearn: 0.8924397\ttest: 0.7036883\tbest: 0.7084601 (113)\ttotal: 37m 56s\tremaining: 11m 56s\n",
            "1530:\tlearn: 0.8924397\ttest: 0.7043638\tbest: 0.7084601 (113)\ttotal: 38m 11s\tremaining: 11m 42s\n",
            "1540:\tlearn: 0.8925603\ttest: 0.7049228\tbest: 0.7084601 (113)\ttotal: 38m 27s\tremaining: 11m 27s\n",
            "1550:\tlearn: 0.8928005\ttest: 0.7044098\tbest: 0.7084601 (113)\ttotal: 38m 42s\tremaining: 11m 12s\n",
            "1560:\tlearn: 0.8929362\ttest: 0.7043874\tbest: 0.7084601 (113)\ttotal: 38m 57s\tremaining: 10m 57s\n",
            "1570:\tlearn: 0.8928169\ttest: 0.7045054\tbest: 0.7084601 (113)\ttotal: 39m 12s\tremaining: 10m 42s\n",
            "1580:\tlearn: 0.8929362\ttest: 0.7041365\tbest: 0.7084601 (113)\ttotal: 39m 28s\tremaining: 10m 27s\n",
            "1590:\tlearn: 0.8929362\ttest: 0.7046500\tbest: 0.7084601 (113)\ttotal: 39m 43s\tremaining: 10m 12s\n",
            "1600:\tlearn: 0.8931910\ttest: 0.7039780\tbest: 0.7084601 (113)\ttotal: 39m 58s\tremaining: 9m 57s\n",
            "1610:\tlearn: 0.8931910\ttest: 0.7036634\tbest: 0.7084601 (113)\ttotal: 40m 13s\tremaining: 9m 42s\n",
            "1620:\tlearn: 0.8931910\ttest: 0.7040005\tbest: 0.7084601 (113)\ttotal: 40m 28s\tremaining: 9m 27s\n",
            "1630:\tlearn: 0.8934364\ttest: 0.7036634\tbest: 0.7084601 (113)\ttotal: 40m 44s\tremaining: 9m 12s\n",
            "1640:\tlearn: 0.8934364\ttest: 0.7036634\tbest: 0.7084601 (113)\ttotal: 40m 59s\tremaining: 8m 57s\n",
            "1650:\tlearn: 0.8935581\ttest: 0.7042356\tbest: 0.7084601 (113)\ttotal: 41m 14s\tremaining: 8m 43s\n",
            "1660:\tlearn: 0.8938316\ttest: 0.7047473\tbest: 0.7084601 (113)\ttotal: 41m 29s\tremaining: 8m 28s\n",
            "1670:\tlearn: 0.8940856\ttest: 0.7048248\tbest: 0.7084601 (113)\ttotal: 41m 44s\tremaining: 8m 13s\n",
            "1680:\tlearn: 0.8940856\ttest: 0.7046371\tbest: 0.7084601 (113)\ttotal: 41m 59s\tremaining: 7m 58s\n",
            "1690:\tlearn: 0.8943276\ttest: 0.7051625\tbest: 0.7084601 (113)\ttotal: 42m 15s\tremaining: 7m 43s\n",
            "1700:\tlearn: 0.8944629\ttest: 0.7048248\tbest: 0.7084601 (113)\ttotal: 42m 30s\tremaining: 7m 28s\n",
            "1710:\tlearn: 0.8944605\ttest: 0.7049034\tbest: 0.7084601 (113)\ttotal: 42m 45s\tremaining: 7m 13s\n",
            "1720:\tlearn: 0.8945981\ttest: 0.7054271\tbest: 0.7084601 (113)\ttotal: 43m 1s\tremaining: 6m 58s\n",
            "1730:\tlearn: 0.8947333\ttest: 0.7049034\tbest: 0.7084601 (113)\ttotal: 43m 16s\tremaining: 6m 43s\n",
            "1740:\tlearn: 0.8947333\ttest: 0.7054271\tbest: 0.7084601 (113)\ttotal: 43m 31s\tremaining: 6m 28s\n",
            "1750:\tlearn: 0.8947333\ttest: 0.7054271\tbest: 0.7084601 (113)\ttotal: 43m 46s\tremaining: 6m 13s\n",
            "1760:\tlearn: 0.8948684\ttest: 0.7054271\tbest: 0.7084601 (113)\ttotal: 44m 1s\tremaining: 5m 58s\n",
            "1770:\tlearn: 0.8951064\ttest: 0.7054492\tbest: 0.7084601 (113)\ttotal: 44m 16s\tremaining: 5m 43s\n",
            "1780:\tlearn: 0.8954545\ttest: 0.7059836\tbest: 0.7084601 (113)\ttotal: 44m 31s\tremaining: 5m 28s\n",
            "1790:\tlearn: 0.8954716\ttest: 0.7054721\tbest: 0.7084601 (113)\ttotal: 44m 46s\tremaining: 5m 13s\n",
            "1800:\tlearn: 0.8957035\ttest: 0.7050678\tbest: 0.7084601 (113)\ttotal: 45m 1s\tremaining: 4m 58s\n",
            "1810:\tlearn: 0.8958171\ttest: 0.7050678\tbest: 0.7084601 (113)\ttotal: 45m 17s\tremaining: 4m 43s\n",
            "1820:\tlearn: 0.8959473\ttest: 0.7054242\tbest: 0.7084601 (113)\ttotal: 45m 32s\tremaining: 4m 28s\n",
            "1830:\tlearn: 0.8959473\ttest: 0.7050678\tbest: 0.7084601 (113)\ttotal: 45m 47s\tremaining: 4m 13s\n",
            "1840:\tlearn: 0.8962111\ttest: 0.7050678\tbest: 0.7084601 (113)\ttotal: 46m 2s\tremaining: 3m 58s\n",
            "1850:\tlearn: 0.8963459\ttest: 0.7056978\tbest: 0.7084601 (113)\ttotal: 46m 17s\tremaining: 3m 43s\n",
            "1860:\tlearn: 0.8963459\ttest: 0.7056978\tbest: 0.7084601 (113)\ttotal: 46m 33s\tremaining: 3m 28s\n",
            "1870:\tlearn: 0.8965782\ttest: 0.7056978\tbest: 0.7084601 (113)\ttotal: 46m 49s\tremaining: 3m 13s\n",
            "1880:\tlearn: 0.8967105\ttest: 0.7056978\tbest: 0.7084601 (113)\ttotal: 47m 4s\tremaining: 2m 58s\n",
            "1890:\tlearn: 0.8968112\ttest: 0.7056978\tbest: 0.7084601 (113)\ttotal: 47m 20s\tremaining: 2m 43s\n",
            "1900:\tlearn: 0.8969313\ttest: 0.7057300\tbest: 0.7084601 (113)\ttotal: 47m 35s\tremaining: 2m 28s\n",
            "1910:\tlearn: 0.8973197\ttest: 0.7057300\tbest: 0.7084601 (113)\ttotal: 47m 50s\tremaining: 2m 13s\n",
            "1920:\tlearn: 0.8974363\ttest: 0.7057300\tbest: 0.7084601 (113)\ttotal: 48m 5s\tremaining: 1m 58s\n",
            "1930:\tlearn: 0.8976930\ttest: 0.7048286\tbest: 0.7084601 (113)\ttotal: 48m 20s\tremaining: 1m 43s\n",
            "1940:\tlearn: 0.8978093\ttest: 0.7052180\tbest: 0.7084601 (113)\ttotal: 48m 36s\tremaining: 1m 28s\n",
            "1950:\tlearn: 0.8979185\ttest: 0.7057300\tbest: 0.7084601 (113)\ttotal: 48m 51s\tremaining: 1m 13s\n",
            "1960:\tlearn: 0.8980530\ttest: 0.7053402\tbest: 0.7084601 (113)\ttotal: 49m 6s\tremaining: 58.6s\n",
            "1970:\tlearn: 0.8982835\ttest: 0.7053402\tbest: 0.7084601 (113)\ttotal: 49m 21s\tremaining: 43.6s\n",
            "1980:\tlearn: 0.8983892\ttest: 0.7052622\tbest: 0.7084601 (113)\ttotal: 49m 37s\tremaining: 28.6s\n",
            "1990:\tlearn: 0.8985118\ttest: 0.7050365\tbest: 0.7084601 (113)\ttotal: 49m 52s\tremaining: 13.5s\n",
            "1999:\tlearn: 0.8985118\ttest: 0.7046070\tbest: 0.7084601 (113)\ttotal: 50m 5s\tremaining: 0us\n",
            "bestTest = 0.7084601494\n",
            "bestIteration = 113\n",
            "Shrink model to first 114 iterations.\n"
          ]
        },
        {
          "output_type": "execute_result",
          "data": {
            "text/plain": [
              "<catboost.core.CatBoostClassifier at 0x7ab1cbd23490>"
            ]
          },
          "metadata": {},
          "execution_count": 8
        }
      ]
    },
    {
      "cell_type": "code",
      "source": [
        "model.save_model(base_path / \"model_clf_2.cbm\")"
      ],
      "metadata": {
        "id": "YygYO13nWhff"
      },
      "execution_count": null,
      "outputs": []
    }
  ]
}